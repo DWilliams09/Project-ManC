
 Time to upgrade this project, since it is on an unpaid trial server and has no network access.  — more info...  
 Files
 New
 Log
 Find
 Settings
 terminal.term
 cplane-np.ipynb
Share
 Chat
CPU: 0%Memory: 87MBNot TrustedPython 3 (Ubuntu Linux)
FileEditViewInsertCellKernelHelp
         Run  Tab  Save TimeTravel Close and halt

{
 "cells": [
  {
   "cell_type": "markdown",
   "metadata": {
    "collapsed": false
   },
   "source": [
    "# Scientific Report\n",
    "\n",
    "julia (1):\n",
    "$$ -2, 2, -2, 2, 800, 800, -1.037, 0.17 $$\n",
    "\n",
    "data/julia.png\n",
    "\n",
    "![hello](data/julia.png \"Julia!\")Description\n"
   ]
  },
  {
   "cell_type": "markdown",
   "metadata": {
    "collapsed": false
   },
   "source": [
    "mandelbrot (1):\n",
    "$$ -2, 2, -2, 2, 800, 800, 0, 0 $$\n",
    "\n",
    "data/mandelbrot.png\n",
    "\n",
    "![hello](data/mandelbrot.png \"Mandelbrot!\")Description\n"
   ]
  },
  {
   "cell_type": "code",
   "execution_count": 0,
   "metadata": {
    "collapsed": false
   },
   "outputs": [
   ],
   "source": [
   ]
  }
 ],
 "metadata": {
  "kernelspec": {
   "display_name": "Python 3 (Ubuntu Linux)",
   "language": "python",
   "name": "python3"
  },
  "language_info": {
   "codemirror_mode": {
    "name": "ipython",
    "version": 3
   },
   "file_extension": ".py",
   "mimetype": "text/x-python",
   "name": "python",
   "nbconvert_exporter": "python",
   "pygments_lexer": "ipython3",
   "version": "3.5.2"
  }
