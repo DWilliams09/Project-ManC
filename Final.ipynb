{
 "cells": [
  {
   "cell_type": "markdown",
   "metadata": {
    "collapsed": false
   },
   "source": [
    "# Scientific Report\n",
    "### generate Julia sets\n",
    "\n",
    "The Julia set consists of values such that an arbitrarily small perturbation can cause drastic changes in the sequence of iterated function values. Thus the behavior of the function on the Julia set can be described as 'chaotic'.\n",
    "\n",
    "<br>\n",
    "<br>\n",
    ">__julia (1):__\n",
    "$$ -2, 2, -2, 2, 800, 800, -1.037, 0.17 $$\n",
    "\n",
    "_data/julia.png_\n",
    "\n",
    "![hello](data/julia.png \"Julia!\")\n"
   ]
  },
  {
   "cell_type": "markdown",
   "metadata": {
    "collapsed": false
   },
   "source": [
    ">__julia (2):__\n",
    "$$ -2, 2, -2, 2, 800, 800, -2.1, 1.25 $$\n",
    "\n",
    "_data/julia2.png_\n",
    "\n",
    "![hello](data/julia2.png \"Julia2!\")"
   ]
  },
  {
   "cell_type": "markdown",
   "metadata": {
    "collapsed": false
   },
   "source": [
    ">__julia (3):__\n",
    "$$ -2, 2, -2, 2, 800, 800, -1.1, 0.37 $$\n",
    "\n",
    "_data/julia3.png_\n",
    "\n",
    "![hello](data/julia3.png \"Julia3!\")\n"
   ]
  },
  {
   "cell_type": "markdown",
   "metadata": {
    "collapsed": false
   },
   "source": [
    "### generate Mandelbrot sets\n",
    "\n",
    "The Mandelbrot set is, in a sense, a dictionary of all quadratic Julia sets.\n",
    "<br>\n",
    "<br>\n",
    ">__mandelbrot (1):__\n",
    "$$ -2, 2, -2, 2, 800, 800, 0, 0 $$\n",
    "\n",
    "_data/mandelbrot.png_\n",
    "\n",
    "![hello](data/mandelbrot.png \"Mandelbrot!\")"
   ]
  },
  {
   "cell_type": "markdown",
   "metadata": {
    "collapsed": false
   },
   "source": [
    ">__mandelbrot (2):__\n",
    "$$ -2, 2, -2, 2, 800, 800, 0.5, 0.5 $$\n",
    "\n",
    "_data/mandelbrot2.png_\n",
    "\n",
    "![hello](data/mandelbrot2.png \"Mandelbrot2!\")\n"
   ]
  },
  {
   "cell_type": "markdown",
   "metadata": {
    "collapsed": false
   },
   "source": [
    ">__mandelbrot (3):__\n",
    "$$ -2, 2, -2, 2, 800, 800, -0.6, -0.1 $$\n",
    "\n",
    "_data/mandelbrot3.png_\n",
    "\n",
    "![hello](data/mandelbrot3.png \"Mandelbrot3!\")\n"
   ]
  }
 ],
 "metadata": {
  "kernelspec": {
   "display_name": "Python 3 (Ubuntu Linux)",
   "language": "python",
   "name": "python3"
  },
  "language_info": {
   "codemirror_mode": {
    "name": "ipython",
    "version": 3
   },
   "file_extension": ".py",
   "mimetype": "text/x-python",
   "name": "python",
   "nbconvert_exporter": "python",
   "pygments_lexer": "ipython3",
   "version": "3.5.2"
  }
 },
 "nbformat": 4,
 "nbformat_minor": 0
}
