{
 "cells": [
  {
   "cell_type": "markdown",
   "metadata": {
    "collapsed": false
   },
   "source": [
    "# Scientific Report\n",
    "### generate Julia sets\n",
    "\n",
    "julia (1):\n",
    "$$ -2, 2, -2, 2, 800, 800, -1.037, 0.17 $$\n",
    "\n",
    "data/julia.png\n",
    "\n",
    "![hello](data/julia.png \"Julia!\")Description\n"
   ]
  },
  {
   "cell_type": "markdown",
   "metadata": {
    "collapsed": false
   },
   "source": [
    "julia (2):\n",
    "$$ -2, 2, -2, 2, 800, 800, -2.1, 1.25 $$\n",
    "\n",
    "data/julia2.png\n",
    "\n",
    "![hello](data/julia2.png \"Julia2!\")Description\n"
   ]
  },
  {
   "cell_type": "markdown",
   "metadata": {
    "collapsed": false
   },
   "source": [
    "julia (3):\n",
    "$$ -2, 2, -2, 2, 800, 800, -1.1, 0.37 $$\n",
    "\n",
    "data/julia3.png\n",
    "\n",
    "![hello](data/julia3.png \"Julia3!\")Description\n"
   ]
  },
  {
   "cell_type": "markdown",
   "metadata": {
    "collapsed": false
   },
   "source": [
    "### generate Mandelbrot sets\n",
    "\n",
    "mandelbrot (1):\n",
    "$$ -2, 2, -2, 2, 800, 800, 0, 0 $$\n",
    "\n",
    "data/mandelbrot.png\n",
    "\n",
    "![hello](data/mandelbrot.png \"Mandelbrot!\"),
    "The Mandelbrot set is, in a sense, a dictionary of all quadratic Julia sets.\n"
   ]
  },
  {
   "cell_type": "markdown",
   "metadata": {
    "collapsed": false
   },
   "source": [
    "mandelbrot (2):\n",
    "$$ -2, 2, -2, 2, 800, 800, 0.5, 0.5 $$\n",
    "\n",
    "data/mandelbrot2.png\n",
    "\n",
    "![hello](data/mandelbrot2.png \"Mandelbrot2!\")Description\n"
   ]
  },
  {
   "cell_type": "markdown",
   "metadata": {
    "collapsed": false
   },
   "source": [
    "mandelbrot (3):\n",
    "$$ -2, 2, -2, 2, 800, 800, -0.6, -0.1 $$\n",
    "\n",
    "data/mandelbrot3.png\n",
    "\n",
    "![hello](data/mandelbrot3.png \"Mandelbrot3!\")Description\n"
   ]
  }
 ],
 "metadata": {
  "kernelspec": {
   "display_name": "Python 3 (Ubuntu Linux)",
   "language": "python",
   "name": "python3"
  },
  "language_info": {
   "codemirror_mode": {
    "name": "ipython",
    "version": 3
   },
   "file_extension": ".py",
   "mimetype": "text/x-python",
   "name": "python",
   "nbconvert_exporter": "python",
   "pygments_lexer": "ipython3",
   "version": "3.5.2"
  }
 },
 "nbformat": 4,
 "nbformat_minor": 0
}
