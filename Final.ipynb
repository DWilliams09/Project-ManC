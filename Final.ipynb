{
 "cells": [
  {
   "cell_type": "markdown",
   "metadata": {},
   "source": [
    "# Scientific Report\n",
    "\n",
    "julia (1):\n",
    "$$ -2, 2, -2, 2, 800, 800, -1.037, 0.17 $$\n",
    "\n",
    "data/julia.png\n",
    "\n",
    "![hello](data/julia.png \"Julia!\")",
    "Description\n"
   ]
  },
  {
   "cell_type": "code",
   "execution_count": 1,
   "metadata": {
    "collapsed": false
   },
   "outputs": [
    {
     "name": "stdout",
     "output_type": "stream",
     "text": [
      "4\n"
     ]
    }
   ],
   "source": [
  {
   "cell_type": "markdown",
   "metadata": {},
   "source": [
    "# Scientific Report\n",
    "\n",
    "julia (1):\n",
    "$$ -2, 2, -2, 2, 800, 800, -1.037, 0.17 $$\n",
    "\n",
    "data/julia.png\n",
    "\n",
    "![hello](data/julia.png \"Julia!\")",
    "Description\n"
   ]
  },
  {
   "cell_type": "code",
   "execution_count": null,
   "metadata": {
    "collapsed": true
   },
   "outputs": [],
   "source": []
  }
 ],
 "metadata": {
  "kernelspec": {
   "display_name": "Python 3",
   "language": "python",
   "name": "python3"
  },
  "language_info": {
   "codemirror_mode": {
    "name": "ipython",
    "version": 3
   },
   "file_extension": ".py",
   "mimetype": "text/x-python",
   "name": "python",
   "nbconvert_exporter": "python",
   "pygments_lexer": "ipython3",
   "version": "3.6.3"
  }
 },
 "nbformat": 4,
 "nbformat_minor": 2
}
