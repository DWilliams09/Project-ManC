
 Time to upgrade this project, since it is on an unpaid trial server and has no network access.  — more info...  
 Files
 New
 Log
 Find
 Settings
 terminal.term
 cplane-np.ipynb
Share
 Chat
Not TrustedPython 3 (Ubuntu Linux)
FileEditViewInsertCellKernelHelp
         Run  Tab  Save TimeTravel Close and halt

{
 "cells": [
  {
   "cell_type": "markdown",
   "metadata": {
    "collapsed": false
   },
   "source": [
    "# Scientific Report\n",
    "### generate Julia sets\n",
    "\n",
    "__julia (1):__\n",
    "$$ -2, 2, -2, 2, 800, 800, -1.037, 0.17 $$\n",
    "\n",
    "_data/julia.png_\n",
    "\n",
    "![hello](data/julia.png \"Julia!\")\n",
    "Description\n"
   ]
  },
  {
   "cell_type": "markdown",
   "metadata": {
    "collapsed": false
   },
   "source": [
    "__julia (2):__\n",
    "$$ -2, 2, -2, 2, 800, 800, -2.1, 1.25 $$\n",
    "\n",
    "_data/julia2.png_\n",
    "\n",
    "![hello](data/julia2.png \"Julia2!\")\n",
    "\n",
    "<font color=blue>The Julia set consists of values such that an arbitrarily small perturbation can cause drastic changes in the sequence of iterated function values. Thus the behavior of the function on the Julia set its behavior is 'chaotic'.</font>\n"
   ]
  },
  {
   "cell_type": "markdown",
   "metadata": {
    "collapsed": false
   },
   "source": [
    "__julia (3):__\n",
    "$$ -2, 2, -2, 2, 800, 800, -1.1, 0.37 $$\n",
    "\n",
    "_data/julia3.png_\n",
    "\n",
    "![hello](data/julia3.png \"Julia3!\")Description\n"
   ]
  },
  {
   "cell_type": "markdown",
   "metadata": {
    "collapsed": false
   },
   "source": [
    "### generate Mandelbrot sets\n",
    "\n",
    "__mandelbrot (1):__\n",
    "$$ -2, 2, -2, 2, 800, 800, 0, 0 $$\n",
    "\n",
    "_data/mandelbrot.png_\n",
